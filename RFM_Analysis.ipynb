{
 "cells": [
  {
   "cell_type": "code",
   "execution_count": 3,
   "id": "f3bf01bc-851d-4798-8e8f-e978f999bd06",
   "metadata": {},
   "outputs": [],
   "source": [
    "import pandas as pd\n",
    "import numpy as np\n",
    "import matplotlib.pyplot as plt\n",
    "import seaborn as sns\n",
    "from sklearn.model_selection import train_test_split\n",
    "from sklearn.cluster import KMeans\n",
    "from sklearn.preprocessing import StandardScaler\n",
    "import warnings\n",
    "warnings.filterwarnings('ignore')"
   ]
  },
  {
   "cell_type": "code",
   "execution_count": 4,
   "id": "582b428c-9c04-4677-a613-df4243353129",
   "metadata": {},
   "outputs": [],
   "source": [
    "df_transaction = pd.read_excel(\"online_retail_II.xlsx\")"
   ]
  },
  {
   "cell_type": "code",
   "execution_count": 5,
   "id": "abb4b00e-f2c7-4fed-8b2c-0a0370d0f2b2",
   "metadata": {},
   "outputs": [
    {
     "data": {
      "text/html": [
       "<div>\n",
       "<style scoped>\n",
       "    .dataframe tbody tr th:only-of-type {\n",
       "        vertical-align: middle;\n",
       "    }\n",
       "\n",
       "    .dataframe tbody tr th {\n",
       "        vertical-align: top;\n",
       "    }\n",
       "\n",
       "    .dataframe thead th {\n",
       "        text-align: right;\n",
       "    }\n",
       "</style>\n",
       "<table border=\"1\" class=\"dataframe\">\n",
       "  <thead>\n",
       "    <tr style=\"text-align: right;\">\n",
       "      <th></th>\n",
       "      <th>Invoice</th>\n",
       "      <th>StockCode</th>\n",
       "      <th>Description</th>\n",
       "      <th>Quantity</th>\n",
       "      <th>InvoiceDate</th>\n",
       "      <th>Price</th>\n",
       "      <th>Customer ID</th>\n",
       "      <th>Country</th>\n",
       "    </tr>\n",
       "  </thead>\n",
       "  <tbody>\n",
       "    <tr>\n",
       "      <th>0</th>\n",
       "      <td>489434</td>\n",
       "      <td>85048</td>\n",
       "      <td>15CM CHRISTMAS GLASS BALL 20 LIGHTS</td>\n",
       "      <td>12</td>\n",
       "      <td>2009-12-01 07:45:00</td>\n",
       "      <td>6.95</td>\n",
       "      <td>13085.0</td>\n",
       "      <td>United Kingdom</td>\n",
       "    </tr>\n",
       "    <tr>\n",
       "      <th>1</th>\n",
       "      <td>489434</td>\n",
       "      <td>79323P</td>\n",
       "      <td>PINK CHERRY LIGHTS</td>\n",
       "      <td>12</td>\n",
       "      <td>2009-12-01 07:45:00</td>\n",
       "      <td>6.75</td>\n",
       "      <td>13085.0</td>\n",
       "      <td>United Kingdom</td>\n",
       "    </tr>\n",
       "    <tr>\n",
       "      <th>2</th>\n",
       "      <td>489434</td>\n",
       "      <td>79323W</td>\n",
       "      <td>WHITE CHERRY LIGHTS</td>\n",
       "      <td>12</td>\n",
       "      <td>2009-12-01 07:45:00</td>\n",
       "      <td>6.75</td>\n",
       "      <td>13085.0</td>\n",
       "      <td>United Kingdom</td>\n",
       "    </tr>\n",
       "    <tr>\n",
       "      <th>3</th>\n",
       "      <td>489434</td>\n",
       "      <td>22041</td>\n",
       "      <td>RECORD FRAME 7\" SINGLE SIZE</td>\n",
       "      <td>48</td>\n",
       "      <td>2009-12-01 07:45:00</td>\n",
       "      <td>2.10</td>\n",
       "      <td>13085.0</td>\n",
       "      <td>United Kingdom</td>\n",
       "    </tr>\n",
       "    <tr>\n",
       "      <th>4</th>\n",
       "      <td>489434</td>\n",
       "      <td>21232</td>\n",
       "      <td>STRAWBERRY CERAMIC TRINKET BOX</td>\n",
       "      <td>24</td>\n",
       "      <td>2009-12-01 07:45:00</td>\n",
       "      <td>1.25</td>\n",
       "      <td>13085.0</td>\n",
       "      <td>United Kingdom</td>\n",
       "    </tr>\n",
       "  </tbody>\n",
       "</table>\n",
       "</div>"
      ],
      "text/plain": [
       "  Invoice StockCode                          Description  Quantity  \\\n",
       "0  489434     85048  15CM CHRISTMAS GLASS BALL 20 LIGHTS        12   \n",
       "1  489434    79323P                   PINK CHERRY LIGHTS        12   \n",
       "2  489434    79323W                  WHITE CHERRY LIGHTS        12   \n",
       "3  489434     22041         RECORD FRAME 7\" SINGLE SIZE         48   \n",
       "4  489434     21232       STRAWBERRY CERAMIC TRINKET BOX        24   \n",
       "\n",
       "          InvoiceDate  Price  Customer ID         Country  \n",
       "0 2009-12-01 07:45:00   6.95      13085.0  United Kingdom  \n",
       "1 2009-12-01 07:45:00   6.75      13085.0  United Kingdom  \n",
       "2 2009-12-01 07:45:00   6.75      13085.0  United Kingdom  \n",
       "3 2009-12-01 07:45:00   2.10      13085.0  United Kingdom  \n",
       "4 2009-12-01 07:45:00   1.25      13085.0  United Kingdom  "
      ]
     },
     "execution_count": 5,
     "metadata": {},
     "output_type": "execute_result"
    }
   ],
   "source": [
    "df_transaction.head()"
   ]
  },
  {
   "cell_type": "code",
   "execution_count": 6,
   "id": "e3a5c9ba-86c1-4df0-a170-47c2f16711b4",
   "metadata": {},
   "outputs": [
    {
     "name": "stdout",
     "output_type": "stream",
     "text": [
      "<class 'pandas.core.frame.DataFrame'>\n",
      "RangeIndex: 525461 entries, 0 to 525460\n",
      "Data columns (total 8 columns):\n",
      " #   Column       Non-Null Count   Dtype         \n",
      "---  ------       --------------   -----         \n",
      " 0   Invoice      525461 non-null  object        \n",
      " 1   StockCode    525461 non-null  object        \n",
      " 2   Description  522533 non-null  object        \n",
      " 3   Quantity     525461 non-null  int64         \n",
      " 4   InvoiceDate  525461 non-null  datetime64[ns]\n",
      " 5   Price        525461 non-null  float64       \n",
      " 6   Customer ID  417534 non-null  float64       \n",
      " 7   Country      525461 non-null  object        \n",
      "dtypes: datetime64[ns](1), float64(2), int64(1), object(4)\n",
      "memory usage: 32.1+ MB\n"
     ]
    }
   ],
   "source": [
    "df_transaction.info()"
   ]
  },
  {
   "cell_type": "code",
   "execution_count": 7,
   "id": "5c16dcdb-4313-43f9-8349-70af3ec489f9",
   "metadata": {},
   "outputs": [],
   "source": [
    "df_transaction.dropna(inplace=True)"
   ]
  },
  {
   "cell_type": "code",
   "execution_count": 8,
   "id": "469c90f9-8489-44ec-90d5-68028a04ca3f",
   "metadata": {},
   "outputs": [
    {
     "name": "stdout",
     "output_type": "stream",
     "text": [
      "<class 'pandas.core.frame.DataFrame'>\n",
      "Index: 417534 entries, 0 to 525460\n",
      "Data columns (total 8 columns):\n",
      " #   Column       Non-Null Count   Dtype         \n",
      "---  ------       --------------   -----         \n",
      " 0   Invoice      417534 non-null  object        \n",
      " 1   StockCode    417534 non-null  object        \n",
      " 2   Description  417534 non-null  object        \n",
      " 3   Quantity     417534 non-null  int64         \n",
      " 4   InvoiceDate  417534 non-null  datetime64[ns]\n",
      " 5   Price        417534 non-null  float64       \n",
      " 6   Customer ID  417534 non-null  float64       \n",
      " 7   Country      417534 non-null  object        \n",
      "dtypes: datetime64[ns](1), float64(2), int64(1), object(4)\n",
      "memory usage: 28.7+ MB\n"
     ]
    }
   ],
   "source": [
    "df_transaction.info()"
   ]
  },
  {
   "cell_type": "code",
   "execution_count": 9,
   "id": "7316e600-b0b4-4f3a-8743-eb1e8458e6be",
   "metadata": {},
   "outputs": [],
   "source": [
    "df_recency = df_transaction.groupby(by='Customer ID',as_index = False)['InvoiceDate'].max()"
   ]
  },
  {
   "cell_type": "code",
   "execution_count": 10,
   "id": "5813f1b4-872a-4633-8d2b-909c5fa48453",
   "metadata": {},
   "outputs": [
    {
     "data": {
      "text/html": [
       "<div>\n",
       "<style scoped>\n",
       "    .dataframe tbody tr th:only-of-type {\n",
       "        vertical-align: middle;\n",
       "    }\n",
       "\n",
       "    .dataframe tbody tr th {\n",
       "        vertical-align: top;\n",
       "    }\n",
       "\n",
       "    .dataframe thead th {\n",
       "        text-align: right;\n",
       "    }\n",
       "</style>\n",
       "<table border=\"1\" class=\"dataframe\">\n",
       "  <thead>\n",
       "    <tr style=\"text-align: right;\">\n",
       "      <th></th>\n",
       "      <th>Customer ID</th>\n",
       "      <th>InvoiceDate</th>\n",
       "    </tr>\n",
       "  </thead>\n",
       "  <tbody>\n",
       "    <tr>\n",
       "      <th>0</th>\n",
       "      <td>12346.0</td>\n",
       "      <td>2010-10-04 16:33:00</td>\n",
       "    </tr>\n",
       "    <tr>\n",
       "      <th>1</th>\n",
       "      <td>12347.0</td>\n",
       "      <td>2010-12-07 14:57:00</td>\n",
       "    </tr>\n",
       "    <tr>\n",
       "      <th>2</th>\n",
       "      <td>12348.0</td>\n",
       "      <td>2010-09-27 14:59:00</td>\n",
       "    </tr>\n",
       "    <tr>\n",
       "      <th>3</th>\n",
       "      <td>12349.0</td>\n",
       "      <td>2010-10-28 08:23:00</td>\n",
       "    </tr>\n",
       "    <tr>\n",
       "      <th>4</th>\n",
       "      <td>12351.0</td>\n",
       "      <td>2010-11-29 15:23:00</td>\n",
       "    </tr>\n",
       "  </tbody>\n",
       "</table>\n",
       "</div>"
      ],
      "text/plain": [
       "   Customer ID         InvoiceDate\n",
       "0      12346.0 2010-10-04 16:33:00\n",
       "1      12347.0 2010-12-07 14:57:00\n",
       "2      12348.0 2010-09-27 14:59:00\n",
       "3      12349.0 2010-10-28 08:23:00\n",
       "4      12351.0 2010-11-29 15:23:00"
      ]
     },
     "execution_count": 10,
     "metadata": {},
     "output_type": "execute_result"
    }
   ],
   "source": [
    "df_recency.head()"
   ]
  },
  {
   "cell_type": "code",
   "execution_count": 11,
   "id": "94a6397f-be1b-4d06-84df-5bf57930b528",
   "metadata": {},
   "outputs": [],
   "source": [
    "df_recency.columns = ['Customer_ID','LastInvoiceDate']"
   ]
  },
  {
   "cell_type": "code",
   "execution_count": 12,
   "id": "918b8b69-d1fc-4fc7-a946-5a527bace180",
   "metadata": {},
   "outputs": [
    {
     "data": {
      "text/html": [
       "<div>\n",
       "<style scoped>\n",
       "    .dataframe tbody tr th:only-of-type {\n",
       "        vertical-align: middle;\n",
       "    }\n",
       "\n",
       "    .dataframe tbody tr th {\n",
       "        vertical-align: top;\n",
       "    }\n",
       "\n",
       "    .dataframe thead th {\n",
       "        text-align: right;\n",
       "    }\n",
       "</style>\n",
       "<table border=\"1\" class=\"dataframe\">\n",
       "  <thead>\n",
       "    <tr style=\"text-align: right;\">\n",
       "      <th></th>\n",
       "      <th>Customer_ID</th>\n",
       "      <th>LastInvoiceDate</th>\n",
       "    </tr>\n",
       "  </thead>\n",
       "  <tbody>\n",
       "    <tr>\n",
       "      <th>0</th>\n",
       "      <td>12346.0</td>\n",
       "      <td>2010-10-04 16:33:00</td>\n",
       "    </tr>\n",
       "    <tr>\n",
       "      <th>1</th>\n",
       "      <td>12347.0</td>\n",
       "      <td>2010-12-07 14:57:00</td>\n",
       "    </tr>\n",
       "    <tr>\n",
       "      <th>2</th>\n",
       "      <td>12348.0</td>\n",
       "      <td>2010-09-27 14:59:00</td>\n",
       "    </tr>\n",
       "    <tr>\n",
       "      <th>3</th>\n",
       "      <td>12349.0</td>\n",
       "      <td>2010-10-28 08:23:00</td>\n",
       "    </tr>\n",
       "    <tr>\n",
       "      <th>4</th>\n",
       "      <td>12351.0</td>\n",
       "      <td>2010-11-29 15:23:00</td>\n",
       "    </tr>\n",
       "  </tbody>\n",
       "</table>\n",
       "</div>"
      ],
      "text/plain": [
       "   Customer_ID     LastInvoiceDate\n",
       "0      12346.0 2010-10-04 16:33:00\n",
       "1      12347.0 2010-12-07 14:57:00\n",
       "2      12348.0 2010-09-27 14:59:00\n",
       "3      12349.0 2010-10-28 08:23:00\n",
       "4      12351.0 2010-11-29 15:23:00"
      ]
     },
     "execution_count": 12,
     "metadata": {},
     "output_type": "execute_result"
    }
   ],
   "source": [
    "df_recency.head()"
   ]
  },
  {
   "cell_type": "code",
   "execution_count": 13,
   "id": "3088e8bb-a90e-4022-80ac-c0817103ed92",
   "metadata": {},
   "outputs": [],
   "source": [
    "recent_date = df_recency['LastInvoiceDate'].max()"
   ]
  },
  {
   "cell_type": "code",
   "execution_count": 14,
   "id": "aaa85243-ffc1-4703-a94b-dd74612e94ba",
   "metadata": {},
   "outputs": [
    {
     "data": {
      "text/plain": [
       "Timestamp('2010-12-09 20:01:00')"
      ]
     },
     "execution_count": 14,
     "metadata": {},
     "output_type": "execute_result"
    }
   ],
   "source": [
    "recent_date"
   ]
  },
  {
   "cell_type": "code",
   "execution_count": 15,
   "id": "0acd7752-185c-4ba2-946f-7538bb3d6ffb",
   "metadata": {},
   "outputs": [],
   "source": [
    "df_recency['Recency'] = df_recency['LastInvoiceDate'].apply(lambda lid:(recent_date - lid).days) "
   ]
  },
  {
   "cell_type": "code",
   "execution_count": 16,
   "id": "52b7a7fe-9eb5-47ea-9a7b-ff434d374e86",
   "metadata": {},
   "outputs": [
    {
     "data": {
      "text/html": [
       "<div>\n",
       "<style scoped>\n",
       "    .dataframe tbody tr th:only-of-type {\n",
       "        vertical-align: middle;\n",
       "    }\n",
       "\n",
       "    .dataframe tbody tr th {\n",
       "        vertical-align: top;\n",
       "    }\n",
       "\n",
       "    .dataframe thead th {\n",
       "        text-align: right;\n",
       "    }\n",
       "</style>\n",
       "<table border=\"1\" class=\"dataframe\">\n",
       "  <thead>\n",
       "    <tr style=\"text-align: right;\">\n",
       "      <th></th>\n",
       "      <th>Customer_ID</th>\n",
       "      <th>LastInvoiceDate</th>\n",
       "      <th>Recency</th>\n",
       "    </tr>\n",
       "  </thead>\n",
       "  <tbody>\n",
       "    <tr>\n",
       "      <th>0</th>\n",
       "      <td>12346.0</td>\n",
       "      <td>2010-10-04 16:33:00</td>\n",
       "      <td>66</td>\n",
       "    </tr>\n",
       "    <tr>\n",
       "      <th>1</th>\n",
       "      <td>12347.0</td>\n",
       "      <td>2010-12-07 14:57:00</td>\n",
       "      <td>2</td>\n",
       "    </tr>\n",
       "    <tr>\n",
       "      <th>2</th>\n",
       "      <td>12348.0</td>\n",
       "      <td>2010-09-27 14:59:00</td>\n",
       "      <td>73</td>\n",
       "    </tr>\n",
       "    <tr>\n",
       "      <th>3</th>\n",
       "      <td>12349.0</td>\n",
       "      <td>2010-10-28 08:23:00</td>\n",
       "      <td>42</td>\n",
       "    </tr>\n",
       "    <tr>\n",
       "      <th>4</th>\n",
       "      <td>12351.0</td>\n",
       "      <td>2010-11-29 15:23:00</td>\n",
       "      <td>10</td>\n",
       "    </tr>\n",
       "  </tbody>\n",
       "</table>\n",
       "</div>"
      ],
      "text/plain": [
       "   Customer_ID     LastInvoiceDate  Recency\n",
       "0      12346.0 2010-10-04 16:33:00       66\n",
       "1      12347.0 2010-12-07 14:57:00        2\n",
       "2      12348.0 2010-09-27 14:59:00       73\n",
       "3      12349.0 2010-10-28 08:23:00       42\n",
       "4      12351.0 2010-11-29 15:23:00       10"
      ]
     },
     "execution_count": 16,
     "metadata": {},
     "output_type": "execute_result"
    }
   ],
   "source": [
    "df_recency.head()"
   ]
  },
  {
   "cell_type": "code",
   "execution_count": 17,
   "id": "49b8a8b1-26b9-47fc-b433-265e27df52eb",
   "metadata": {},
   "outputs": [],
   "source": [
    "df_frequency = df_transaction.groupby(by='Customer ID' ,as_index=False)['InvoiceDate'].count()"
   ]
  },
  {
   "cell_type": "code",
   "execution_count": 18,
   "id": "35b9fd8b-c4f1-42f1-8bbd-1155c41223b4",
   "metadata": {},
   "outputs": [],
   "source": [
    "df_frequency.columns = ['Customer_ID','Frequency']"
   ]
  },
  {
   "cell_type": "code",
   "execution_count": 19,
   "id": "0109bba1-0f28-4880-a87c-917dd340d596",
   "metadata": {},
   "outputs": [
    {
     "data": {
      "text/html": [
       "<div>\n",
       "<style scoped>\n",
       "    .dataframe tbody tr th:only-of-type {\n",
       "        vertical-align: middle;\n",
       "    }\n",
       "\n",
       "    .dataframe tbody tr th {\n",
       "        vertical-align: top;\n",
       "    }\n",
       "\n",
       "    .dataframe thead th {\n",
       "        text-align: right;\n",
       "    }\n",
       "</style>\n",
       "<table border=\"1\" class=\"dataframe\">\n",
       "  <thead>\n",
       "    <tr style=\"text-align: right;\">\n",
       "      <th></th>\n",
       "      <th>Customer_ID</th>\n",
       "      <th>Frequency</th>\n",
       "    </tr>\n",
       "  </thead>\n",
       "  <tbody>\n",
       "    <tr>\n",
       "      <th>0</th>\n",
       "      <td>12346.0</td>\n",
       "      <td>46</td>\n",
       "    </tr>\n",
       "    <tr>\n",
       "      <th>1</th>\n",
       "      <td>12347.0</td>\n",
       "      <td>71</td>\n",
       "    </tr>\n",
       "    <tr>\n",
       "      <th>2</th>\n",
       "      <td>12348.0</td>\n",
       "      <td>20</td>\n",
       "    </tr>\n",
       "    <tr>\n",
       "      <th>3</th>\n",
       "      <td>12349.0</td>\n",
       "      <td>107</td>\n",
       "    </tr>\n",
       "    <tr>\n",
       "      <th>4</th>\n",
       "      <td>12351.0</td>\n",
       "      <td>21</td>\n",
       "    </tr>\n",
       "  </tbody>\n",
       "</table>\n",
       "</div>"
      ],
      "text/plain": [
       "   Customer_ID  Frequency\n",
       "0      12346.0         46\n",
       "1      12347.0         71\n",
       "2      12348.0         20\n",
       "3      12349.0        107\n",
       "4      12351.0         21"
      ]
     },
     "execution_count": 19,
     "metadata": {},
     "output_type": "execute_result"
    }
   ],
   "source": [
    "df_frequency.head() #Customer_ID Customer_ID"
   ]
  },
  {
   "cell_type": "code",
   "execution_count": 20,
   "id": "bff767ba-4f70-41bf-a3b6-3f170d2e6c60",
   "metadata": {},
   "outputs": [],
   "source": [
    "df_transaction['total_value'] = df_transaction.Quantity*df_transaction.Price"
   ]
  },
  {
   "cell_type": "code",
   "execution_count": 21,
   "id": "2e8cacae-2b45-41ed-ad6d-79402400bae5",
   "metadata": {},
   "outputs": [
    {
     "data": {
      "text/html": [
       "<div>\n",
       "<style scoped>\n",
       "    .dataframe tbody tr th:only-of-type {\n",
       "        vertical-align: middle;\n",
       "    }\n",
       "\n",
       "    .dataframe tbody tr th {\n",
       "        vertical-align: top;\n",
       "    }\n",
       "\n",
       "    .dataframe thead th {\n",
       "        text-align: right;\n",
       "    }\n",
       "</style>\n",
       "<table border=\"1\" class=\"dataframe\">\n",
       "  <thead>\n",
       "    <tr style=\"text-align: right;\">\n",
       "      <th></th>\n",
       "      <th>Invoice</th>\n",
       "      <th>StockCode</th>\n",
       "      <th>Description</th>\n",
       "      <th>Quantity</th>\n",
       "      <th>InvoiceDate</th>\n",
       "      <th>Price</th>\n",
       "      <th>Customer ID</th>\n",
       "      <th>Country</th>\n",
       "      <th>total_value</th>\n",
       "    </tr>\n",
       "  </thead>\n",
       "  <tbody>\n",
       "    <tr>\n",
       "      <th>0</th>\n",
       "      <td>489434</td>\n",
       "      <td>85048</td>\n",
       "      <td>15CM CHRISTMAS GLASS BALL 20 LIGHTS</td>\n",
       "      <td>12</td>\n",
       "      <td>2009-12-01 07:45:00</td>\n",
       "      <td>6.95</td>\n",
       "      <td>13085.0</td>\n",
       "      <td>United Kingdom</td>\n",
       "      <td>83.4</td>\n",
       "    </tr>\n",
       "    <tr>\n",
       "      <th>1</th>\n",
       "      <td>489434</td>\n",
       "      <td>79323P</td>\n",
       "      <td>PINK CHERRY LIGHTS</td>\n",
       "      <td>12</td>\n",
       "      <td>2009-12-01 07:45:00</td>\n",
       "      <td>6.75</td>\n",
       "      <td>13085.0</td>\n",
       "      <td>United Kingdom</td>\n",
       "      <td>81.0</td>\n",
       "    </tr>\n",
       "    <tr>\n",
       "      <th>2</th>\n",
       "      <td>489434</td>\n",
       "      <td>79323W</td>\n",
       "      <td>WHITE CHERRY LIGHTS</td>\n",
       "      <td>12</td>\n",
       "      <td>2009-12-01 07:45:00</td>\n",
       "      <td>6.75</td>\n",
       "      <td>13085.0</td>\n",
       "      <td>United Kingdom</td>\n",
       "      <td>81.0</td>\n",
       "    </tr>\n",
       "    <tr>\n",
       "      <th>3</th>\n",
       "      <td>489434</td>\n",
       "      <td>22041</td>\n",
       "      <td>RECORD FRAME 7\" SINGLE SIZE</td>\n",
       "      <td>48</td>\n",
       "      <td>2009-12-01 07:45:00</td>\n",
       "      <td>2.10</td>\n",
       "      <td>13085.0</td>\n",
       "      <td>United Kingdom</td>\n",
       "      <td>100.8</td>\n",
       "    </tr>\n",
       "    <tr>\n",
       "      <th>4</th>\n",
       "      <td>489434</td>\n",
       "      <td>21232</td>\n",
       "      <td>STRAWBERRY CERAMIC TRINKET BOX</td>\n",
       "      <td>24</td>\n",
       "      <td>2009-12-01 07:45:00</td>\n",
       "      <td>1.25</td>\n",
       "      <td>13085.0</td>\n",
       "      <td>United Kingdom</td>\n",
       "      <td>30.0</td>\n",
       "    </tr>\n",
       "  </tbody>\n",
       "</table>\n",
       "</div>"
      ],
      "text/plain": [
       "  Invoice StockCode                          Description  Quantity  \\\n",
       "0  489434     85048  15CM CHRISTMAS GLASS BALL 20 LIGHTS        12   \n",
       "1  489434    79323P                   PINK CHERRY LIGHTS        12   \n",
       "2  489434    79323W                  WHITE CHERRY LIGHTS        12   \n",
       "3  489434     22041         RECORD FRAME 7\" SINGLE SIZE         48   \n",
       "4  489434     21232       STRAWBERRY CERAMIC TRINKET BOX        24   \n",
       "\n",
       "          InvoiceDate  Price  Customer ID         Country  total_value  \n",
       "0 2009-12-01 07:45:00   6.95      13085.0  United Kingdom         83.4  \n",
       "1 2009-12-01 07:45:00   6.75      13085.0  United Kingdom         81.0  \n",
       "2 2009-12-01 07:45:00   6.75      13085.0  United Kingdom         81.0  \n",
       "3 2009-12-01 07:45:00   2.10      13085.0  United Kingdom        100.8  \n",
       "4 2009-12-01 07:45:00   1.25      13085.0  United Kingdom         30.0  "
      ]
     },
     "execution_count": 21,
     "metadata": {},
     "output_type": "execute_result"
    }
   ],
   "source": [
    "df_transaction.head()"
   ]
  },
  {
   "cell_type": "code",
   "execution_count": 22,
   "id": "a6841342-b89a-4824-a18c-84f64a619801",
   "metadata": {},
   "outputs": [],
   "source": [
    "df_monetory = df_transaction.groupby(by='Customer ID',as_index=False)['total_value'].sum()"
   ]
  },
  {
   "cell_type": "code",
   "execution_count": 23,
   "id": "543b5191-2d21-4892-b582-2a22f26457ec",
   "metadata": {},
   "outputs": [
    {
     "data": {
      "text/html": [
       "<div>\n",
       "<style scoped>\n",
       "    .dataframe tbody tr th:only-of-type {\n",
       "        vertical-align: middle;\n",
       "    }\n",
       "\n",
       "    .dataframe tbody tr th {\n",
       "        vertical-align: top;\n",
       "    }\n",
       "\n",
       "    .dataframe thead th {\n",
       "        text-align: right;\n",
       "    }\n",
       "</style>\n",
       "<table border=\"1\" class=\"dataframe\">\n",
       "  <thead>\n",
       "    <tr style=\"text-align: right;\">\n",
       "      <th></th>\n",
       "      <th>Customer ID</th>\n",
       "      <th>total_value</th>\n",
       "    </tr>\n",
       "  </thead>\n",
       "  <tbody>\n",
       "    <tr>\n",
       "      <th>0</th>\n",
       "      <td>12346.0</td>\n",
       "      <td>-64.68</td>\n",
       "    </tr>\n",
       "    <tr>\n",
       "      <th>1</th>\n",
       "      <td>12347.0</td>\n",
       "      <td>1323.32</td>\n",
       "    </tr>\n",
       "    <tr>\n",
       "      <th>2</th>\n",
       "      <td>12348.0</td>\n",
       "      <td>222.16</td>\n",
       "    </tr>\n",
       "    <tr>\n",
       "      <th>3</th>\n",
       "      <td>12349.0</td>\n",
       "      <td>2646.99</td>\n",
       "    </tr>\n",
       "    <tr>\n",
       "      <th>4</th>\n",
       "      <td>12351.0</td>\n",
       "      <td>300.93</td>\n",
       "    </tr>\n",
       "  </tbody>\n",
       "</table>\n",
       "</div>"
      ],
      "text/plain": [
       "   Customer ID  total_value\n",
       "0      12346.0       -64.68\n",
       "1      12347.0      1323.32\n",
       "2      12348.0       222.16\n",
       "3      12349.0      2646.99\n",
       "4      12351.0       300.93"
      ]
     },
     "execution_count": 23,
     "metadata": {},
     "output_type": "execute_result"
    }
   ],
   "source": [
    "df_monetory.head()"
   ]
  },
  {
   "cell_type": "code",
   "execution_count": 24,
   "id": "cb38a0b4-d389-4221-9b2d-1ab860e2e46b",
   "metadata": {},
   "outputs": [],
   "source": [
    "df_monetory.columns = ['Customer_ID','Monetory']"
   ]
  },
  {
   "cell_type": "code",
   "execution_count": 25,
   "id": "ccb683eb-aacb-4e78-b486-1b88a877dc74",
   "metadata": {},
   "outputs": [
    {
     "data": {
      "text/html": [
       "<div>\n",
       "<style scoped>\n",
       "    .dataframe tbody tr th:only-of-type {\n",
       "        vertical-align: middle;\n",
       "    }\n",
       "\n",
       "    .dataframe tbody tr th {\n",
       "        vertical-align: top;\n",
       "    }\n",
       "\n",
       "    .dataframe thead th {\n",
       "        text-align: right;\n",
       "    }\n",
       "</style>\n",
       "<table border=\"1\" class=\"dataframe\">\n",
       "  <thead>\n",
       "    <tr style=\"text-align: right;\">\n",
       "      <th></th>\n",
       "      <th>Customer_ID</th>\n",
       "      <th>Monetory</th>\n",
       "    </tr>\n",
       "  </thead>\n",
       "  <tbody>\n",
       "    <tr>\n",
       "      <th>0</th>\n",
       "      <td>12346.0</td>\n",
       "      <td>-64.68</td>\n",
       "    </tr>\n",
       "    <tr>\n",
       "      <th>1</th>\n",
       "      <td>12347.0</td>\n",
       "      <td>1323.32</td>\n",
       "    </tr>\n",
       "    <tr>\n",
       "      <th>2</th>\n",
       "      <td>12348.0</td>\n",
       "      <td>222.16</td>\n",
       "    </tr>\n",
       "    <tr>\n",
       "      <th>3</th>\n",
       "      <td>12349.0</td>\n",
       "      <td>2646.99</td>\n",
       "    </tr>\n",
       "    <tr>\n",
       "      <th>4</th>\n",
       "      <td>12351.0</td>\n",
       "      <td>300.93</td>\n",
       "    </tr>\n",
       "  </tbody>\n",
       "</table>\n",
       "</div>"
      ],
      "text/plain": [
       "   Customer_ID  Monetory\n",
       "0      12346.0    -64.68\n",
       "1      12347.0   1323.32\n",
       "2      12348.0    222.16\n",
       "3      12349.0   2646.99\n",
       "4      12351.0    300.93"
      ]
     },
     "execution_count": 25,
     "metadata": {},
     "output_type": "execute_result"
    }
   ],
   "source": [
    "df_monetory.head()"
   ]
  },
  {
   "cell_type": "markdown",
   "id": "2ae81129-d1ed-4329-8321-bba0b6aa1c38",
   "metadata": {},
   "source": [
    "###### Merge three dataframes (Recency,Frequency,Monetory)"
   ]
  },
  {
   "cell_type": "code",
   "execution_count": 26,
   "id": "28aaf664-8df9-48e2-b16d-a949bdb5d2e1",
   "metadata": {},
   "outputs": [],
   "source": [
    "df_merge = df_frequency.merge(df_recency, on = \"Customer_ID\",how = 'inner')"
   ]
  },
  {
   "cell_type": "code",
   "execution_count": 27,
   "id": "dbb59ef8-9184-4087-a230-a75f8fb22cf8",
   "metadata": {},
   "outputs": [
    {
     "data": {
      "text/html": [
       "<div>\n",
       "<style scoped>\n",
       "    .dataframe tbody tr th:only-of-type {\n",
       "        vertical-align: middle;\n",
       "    }\n",
       "\n",
       "    .dataframe tbody tr th {\n",
       "        vertical-align: top;\n",
       "    }\n",
       "\n",
       "    .dataframe thead th {\n",
       "        text-align: right;\n",
       "    }\n",
       "</style>\n",
       "<table border=\"1\" class=\"dataframe\">\n",
       "  <thead>\n",
       "    <tr style=\"text-align: right;\">\n",
       "      <th></th>\n",
       "      <th>Customer_ID</th>\n",
       "      <th>Frequency</th>\n",
       "      <th>LastInvoiceDate</th>\n",
       "      <th>Recency</th>\n",
       "    </tr>\n",
       "  </thead>\n",
       "  <tbody>\n",
       "    <tr>\n",
       "      <th>0</th>\n",
       "      <td>12346.0</td>\n",
       "      <td>46</td>\n",
       "      <td>2010-10-04 16:33:00</td>\n",
       "      <td>66</td>\n",
       "    </tr>\n",
       "    <tr>\n",
       "      <th>1</th>\n",
       "      <td>12347.0</td>\n",
       "      <td>71</td>\n",
       "      <td>2010-12-07 14:57:00</td>\n",
       "      <td>2</td>\n",
       "    </tr>\n",
       "    <tr>\n",
       "      <th>2</th>\n",
       "      <td>12348.0</td>\n",
       "      <td>20</td>\n",
       "      <td>2010-09-27 14:59:00</td>\n",
       "      <td>73</td>\n",
       "    </tr>\n",
       "    <tr>\n",
       "      <th>3</th>\n",
       "      <td>12349.0</td>\n",
       "      <td>107</td>\n",
       "      <td>2010-10-28 08:23:00</td>\n",
       "      <td>42</td>\n",
       "    </tr>\n",
       "    <tr>\n",
       "      <th>4</th>\n",
       "      <td>12351.0</td>\n",
       "      <td>21</td>\n",
       "      <td>2010-11-29 15:23:00</td>\n",
       "      <td>10</td>\n",
       "    </tr>\n",
       "  </tbody>\n",
       "</table>\n",
       "</div>"
      ],
      "text/plain": [
       "   Customer_ID  Frequency     LastInvoiceDate  Recency\n",
       "0      12346.0         46 2010-10-04 16:33:00       66\n",
       "1      12347.0         71 2010-12-07 14:57:00        2\n",
       "2      12348.0         20 2010-09-27 14:59:00       73\n",
       "3      12349.0        107 2010-10-28 08:23:00       42\n",
       "4      12351.0         21 2010-11-29 15:23:00       10"
      ]
     },
     "execution_count": 27,
     "metadata": {},
     "output_type": "execute_result"
    }
   ],
   "source": [
    "df_merge.head()"
   ]
  },
  {
   "cell_type": "code",
   "execution_count": 28,
   "id": "dae4c43b-6f84-40e6-bceb-8ce5f1d9c3fa",
   "metadata": {},
   "outputs": [],
   "source": [
    "rfm_df = df_merge.merge(df_monetory,on ='Customer_ID')"
   ]
  },
  {
   "cell_type": "code",
   "execution_count": 29,
   "id": "930dd8ca-f67c-4712-9413-a61de7724bb3",
   "metadata": {},
   "outputs": [],
   "source": [
    "rfm_df.drop(['Customer_ID'],axis=1,inplace=True)"
   ]
  },
  {
   "cell_type": "code",
   "execution_count": 30,
   "id": "0b3b2c69-c23a-4756-8225-956fb515ab5c",
   "metadata": {},
   "outputs": [
    {
     "data": {
      "text/html": [
       "<div>\n",
       "<style scoped>\n",
       "    .dataframe tbody tr th:only-of-type {\n",
       "        vertical-align: middle;\n",
       "    }\n",
       "\n",
       "    .dataframe tbody tr th {\n",
       "        vertical-align: top;\n",
       "    }\n",
       "\n",
       "    .dataframe thead th {\n",
       "        text-align: right;\n",
       "    }\n",
       "</style>\n",
       "<table border=\"1\" class=\"dataframe\">\n",
       "  <thead>\n",
       "    <tr style=\"text-align: right;\">\n",
       "      <th></th>\n",
       "      <th>Frequency</th>\n",
       "      <th>LastInvoiceDate</th>\n",
       "      <th>Recency</th>\n",
       "      <th>Monetory</th>\n",
       "    </tr>\n",
       "  </thead>\n",
       "  <tbody>\n",
       "    <tr>\n",
       "      <th>0</th>\n",
       "      <td>46</td>\n",
       "      <td>2010-10-04 16:33:00</td>\n",
       "      <td>66</td>\n",
       "      <td>-64.68</td>\n",
       "    </tr>\n",
       "    <tr>\n",
       "      <th>1</th>\n",
       "      <td>71</td>\n",
       "      <td>2010-12-07 14:57:00</td>\n",
       "      <td>2</td>\n",
       "      <td>1323.32</td>\n",
       "    </tr>\n",
       "    <tr>\n",
       "      <th>2</th>\n",
       "      <td>20</td>\n",
       "      <td>2010-09-27 14:59:00</td>\n",
       "      <td>73</td>\n",
       "      <td>222.16</td>\n",
       "    </tr>\n",
       "    <tr>\n",
       "      <th>3</th>\n",
       "      <td>107</td>\n",
       "      <td>2010-10-28 08:23:00</td>\n",
       "      <td>42</td>\n",
       "      <td>2646.99</td>\n",
       "    </tr>\n",
       "    <tr>\n",
       "      <th>4</th>\n",
       "      <td>21</td>\n",
       "      <td>2010-11-29 15:23:00</td>\n",
       "      <td>10</td>\n",
       "      <td>300.93</td>\n",
       "    </tr>\n",
       "  </tbody>\n",
       "</table>\n",
       "</div>"
      ],
      "text/plain": [
       "   Frequency     LastInvoiceDate  Recency  Monetory\n",
       "0         46 2010-10-04 16:33:00       66    -64.68\n",
       "1         71 2010-12-07 14:57:00        2   1323.32\n",
       "2         20 2010-09-27 14:59:00       73    222.16\n",
       "3        107 2010-10-28 08:23:00       42   2646.99\n",
       "4         21 2010-11-29 15:23:00       10    300.93"
      ]
     },
     "execution_count": 30,
     "metadata": {},
     "output_type": "execute_result"
    }
   ],
   "source": [
    "rfm_df.head()"
   ]
  },
  {
   "cell_type": "code",
   "execution_count": 31,
   "id": "6c3c349d-b17e-4e20-92c3-560421d80c5c",
   "metadata": {},
   "outputs": [],
   "source": [
    "rfm_df['freq_rank'] = rfm_df['Frequency'].rank(ascending=True)\n",
    "rfm_df['rec_rank'] = rfm_df['Recency'].rank(ascending=False)\n",
    "rfm_df['mon_rank'] = rfm_df['Monetory'].rank(ascending=True)"
   ]
  },
  {
   "cell_type": "code",
   "execution_count": 32,
   "id": "4b5ab738-c8b3-4368-95c6-527d174e7129",
   "metadata": {},
   "outputs": [
    {
     "data": {
      "text/html": [
       "<div>\n",
       "<style scoped>\n",
       "    .dataframe tbody tr th:only-of-type {\n",
       "        vertical-align: middle;\n",
       "    }\n",
       "\n",
       "    .dataframe tbody tr th {\n",
       "        vertical-align: top;\n",
       "    }\n",
       "\n",
       "    .dataframe thead th {\n",
       "        text-align: right;\n",
       "    }\n",
       "</style>\n",
       "<table border=\"1\" class=\"dataframe\">\n",
       "  <thead>\n",
       "    <tr style=\"text-align: right;\">\n",
       "      <th></th>\n",
       "      <th>Frequency</th>\n",
       "      <th>LastInvoiceDate</th>\n",
       "      <th>Recency</th>\n",
       "      <th>Monetory</th>\n",
       "      <th>freq_rank</th>\n",
       "      <th>rec_rank</th>\n",
       "      <th>mon_rank</th>\n",
       "    </tr>\n",
       "  </thead>\n",
       "  <tbody>\n",
       "    <tr>\n",
       "      <th>0</th>\n",
       "      <td>46</td>\n",
       "      <td>2010-10-04 16:33:00</td>\n",
       "      <td>66</td>\n",
       "      <td>-64.68</td>\n",
       "      <td>2262.5</td>\n",
       "      <td>1792.0</td>\n",
       "      <td>53.0</td>\n",
       "    </tr>\n",
       "    <tr>\n",
       "      <th>1</th>\n",
       "      <td>71</td>\n",
       "      <td>2010-12-07 14:57:00</td>\n",
       "      <td>2</td>\n",
       "      <td>1323.32</td>\n",
       "      <td>2816.5</td>\n",
       "      <td>4126.5</td>\n",
       "      <td>3044.0</td>\n",
       "    </tr>\n",
       "    <tr>\n",
       "      <th>2</th>\n",
       "      <td>20</td>\n",
       "      <td>2010-09-27 14:59:00</td>\n",
       "      <td>73</td>\n",
       "      <td>222.16</td>\n",
       "      <td>1221.0</td>\n",
       "      <td>1651.5</td>\n",
       "      <td>838.0</td>\n",
       "    </tr>\n",
       "    <tr>\n",
       "      <th>3</th>\n",
       "      <td>107</td>\n",
       "      <td>2010-10-28 08:23:00</td>\n",
       "      <td>42</td>\n",
       "      <td>2646.99</td>\n",
       "      <td>3331.5</td>\n",
       "      <td>2421.0</td>\n",
       "      <td>3746.0</td>\n",
       "    </tr>\n",
       "    <tr>\n",
       "      <th>4</th>\n",
       "      <td>21</td>\n",
       "      <td>2010-11-29 15:23:00</td>\n",
       "      <td>10</td>\n",
       "      <td>300.93</td>\n",
       "      <td>1277.5</td>\n",
       "      <td>3645.0</td>\n",
       "      <td>1159.5</td>\n",
       "    </tr>\n",
       "  </tbody>\n",
       "</table>\n",
       "</div>"
      ],
      "text/plain": [
       "   Frequency     LastInvoiceDate  Recency  Monetory  freq_rank  rec_rank  \\\n",
       "0         46 2010-10-04 16:33:00       66    -64.68     2262.5    1792.0   \n",
       "1         71 2010-12-07 14:57:00        2   1323.32     2816.5    4126.5   \n",
       "2         20 2010-09-27 14:59:00       73    222.16     1221.0    1651.5   \n",
       "3        107 2010-10-28 08:23:00       42   2646.99     3331.5    2421.0   \n",
       "4         21 2010-11-29 15:23:00       10    300.93     1277.5    3645.0   \n",
       "\n",
       "   mon_rank  \n",
       "0      53.0  \n",
       "1    3044.0  \n",
       "2     838.0  \n",
       "3    3746.0  \n",
       "4    1159.5  "
      ]
     },
     "execution_count": 32,
     "metadata": {},
     "output_type": "execute_result"
    }
   ],
   "source": [
    "rfm_df.head()"
   ]
  },
  {
   "cell_type": "code",
   "execution_count": 33,
   "id": "650ac0d9-6019-49df-aab0-896bffedcbc2",
   "metadata": {},
   "outputs": [],
   "source": [
    "rfm_df['freq_rank_norm'] = (rfm_df['freq_rank']/rfm_df['freq_rank'].max())*100\n",
    "rfm_df['rec_rank_norm'] = (rfm_df['rec_rank']/rfm_df['rec_rank'].max())*100\n",
    "rfm_df['mon_rank_norm'] = (rfm_df['mon_rank']/rfm_df['mon_rank'].max())*100"
   ]
  },
  {
   "cell_type": "code",
   "execution_count": 34,
   "id": "a4a8bd20-8e6d-49de-8f17-760c202aeeac",
   "metadata": {},
   "outputs": [
    {
     "data": {
      "text/html": [
       "<div>\n",
       "<style scoped>\n",
       "    .dataframe tbody tr th:only-of-type {\n",
       "        vertical-align: middle;\n",
       "    }\n",
       "\n",
       "    .dataframe tbody tr th {\n",
       "        vertical-align: top;\n",
       "    }\n",
       "\n",
       "    .dataframe thead th {\n",
       "        text-align: right;\n",
       "    }\n",
       "</style>\n",
       "<table border=\"1\" class=\"dataframe\">\n",
       "  <thead>\n",
       "    <tr style=\"text-align: right;\">\n",
       "      <th></th>\n",
       "      <th>Frequency</th>\n",
       "      <th>LastInvoiceDate</th>\n",
       "      <th>Recency</th>\n",
       "      <th>Monetory</th>\n",
       "      <th>freq_rank</th>\n",
       "      <th>rec_rank</th>\n",
       "      <th>mon_rank</th>\n",
       "      <th>freq_rank_norm</th>\n",
       "      <th>rec_rank_norm</th>\n",
       "      <th>mon_rank_norm</th>\n",
       "    </tr>\n",
       "  </thead>\n",
       "  <tbody>\n",
       "    <tr>\n",
       "      <th>0</th>\n",
       "      <td>46</td>\n",
       "      <td>2010-10-04 16:33:00</td>\n",
       "      <td>66</td>\n",
       "      <td>-64.68</td>\n",
       "      <td>2262.5</td>\n",
       "      <td>1792.0</td>\n",
       "      <td>53.0</td>\n",
       "      <td>51.619895</td>\n",
       "      <td>41.457490</td>\n",
       "      <td>1.209217</td>\n",
       "    </tr>\n",
       "    <tr>\n",
       "      <th>1</th>\n",
       "      <td>71</td>\n",
       "      <td>2010-12-07 14:57:00</td>\n",
       "      <td>2</td>\n",
       "      <td>1323.32</td>\n",
       "      <td>2816.5</td>\n",
       "      <td>4126.5</td>\n",
       "      <td>3044.0</td>\n",
       "      <td>64.259640</td>\n",
       "      <td>95.465587</td>\n",
       "      <td>69.450148</td>\n",
       "    </tr>\n",
       "    <tr>\n",
       "      <th>2</th>\n",
       "      <td>20</td>\n",
       "      <td>2010-09-27 14:59:00</td>\n",
       "      <td>73</td>\n",
       "      <td>222.16</td>\n",
       "      <td>1221.0</td>\n",
       "      <td>1651.5</td>\n",
       "      <td>838.0</td>\n",
       "      <td>27.857632</td>\n",
       "      <td>38.207056</td>\n",
       "      <td>19.119325</td>\n",
       "    </tr>\n",
       "    <tr>\n",
       "      <th>3</th>\n",
       "      <td>107</td>\n",
       "      <td>2010-10-28 08:23:00</td>\n",
       "      <td>42</td>\n",
       "      <td>2646.99</td>\n",
       "      <td>3331.5</td>\n",
       "      <td>2421.0</td>\n",
       "      <td>3746.0</td>\n",
       "      <td>76.009582</td>\n",
       "      <td>56.009254</td>\n",
       "      <td>85.466575</td>\n",
       "    </tr>\n",
       "    <tr>\n",
       "      <th>4</th>\n",
       "      <td>21</td>\n",
       "      <td>2010-11-29 15:23:00</td>\n",
       "      <td>10</td>\n",
       "      <td>300.93</td>\n",
       "      <td>1277.5</td>\n",
       "      <td>3645.0</td>\n",
       "      <td>1159.5</td>\n",
       "      <td>29.146703</td>\n",
       "      <td>84.326200</td>\n",
       "      <td>26.454483</td>\n",
       "    </tr>\n",
       "  </tbody>\n",
       "</table>\n",
       "</div>"
      ],
      "text/plain": [
       "   Frequency     LastInvoiceDate  Recency  Monetory  freq_rank  rec_rank  \\\n",
       "0         46 2010-10-04 16:33:00       66    -64.68     2262.5    1792.0   \n",
       "1         71 2010-12-07 14:57:00        2   1323.32     2816.5    4126.5   \n",
       "2         20 2010-09-27 14:59:00       73    222.16     1221.0    1651.5   \n",
       "3        107 2010-10-28 08:23:00       42   2646.99     3331.5    2421.0   \n",
       "4         21 2010-11-29 15:23:00       10    300.93     1277.5    3645.0   \n",
       "\n",
       "   mon_rank  freq_rank_norm  rec_rank_norm  mon_rank_norm  \n",
       "0      53.0       51.619895      41.457490       1.209217  \n",
       "1    3044.0       64.259640      95.465587      69.450148  \n",
       "2     838.0       27.857632      38.207056      19.119325  \n",
       "3    3746.0       76.009582      56.009254      85.466575  \n",
       "4    1159.5       29.146703      84.326200      26.454483  "
      ]
     },
     "execution_count": 34,
     "metadata": {},
     "output_type": "execute_result"
    }
   ],
   "source": [
    "rfm_df.head()"
   ]
  },
  {
   "cell_type": "code",
   "execution_count": 35,
   "id": "de1cdbb1-7191-4a8a-9951-60b919fb93aa",
   "metadata": {},
   "outputs": [],
   "source": [
    "rfm_df.drop(['freq_rank','rec_rank','mon_rank'],axis=1,inplace=True)"
   ]
  },
  {
   "cell_type": "code",
   "execution_count": 36,
   "id": "334a6aa1-7c97-4d60-8888-2c422b8187bd",
   "metadata": {},
   "outputs": [],
   "source": [
    "rfm_df['rfm_score'] = rfm_df['freq_rank_norm']*0.28 + rfm_df['rec_rank_norm']*0.15 + rfm_df['mon_rank_norm']*0.57"
   ]
  },
  {
   "cell_type": "code",
   "execution_count": 37,
   "id": "e1030abf-600d-4513-9da7-76014465212e",
   "metadata": {},
   "outputs": [
    {
     "data": {
      "text/html": [
       "<div>\n",
       "<style scoped>\n",
       "    .dataframe tbody tr th:only-of-type {\n",
       "        vertical-align: middle;\n",
       "    }\n",
       "\n",
       "    .dataframe tbody tr th {\n",
       "        vertical-align: top;\n",
       "    }\n",
       "\n",
       "    .dataframe thead th {\n",
       "        text-align: right;\n",
       "    }\n",
       "</style>\n",
       "<table border=\"1\" class=\"dataframe\">\n",
       "  <thead>\n",
       "    <tr style=\"text-align: right;\">\n",
       "      <th></th>\n",
       "      <th>Frequency</th>\n",
       "      <th>LastInvoiceDate</th>\n",
       "      <th>Recency</th>\n",
       "      <th>Monetory</th>\n",
       "      <th>freq_rank_norm</th>\n",
       "      <th>rec_rank_norm</th>\n",
       "      <th>mon_rank_norm</th>\n",
       "      <th>rfm_score</th>\n",
       "    </tr>\n",
       "  </thead>\n",
       "  <tbody>\n",
       "    <tr>\n",
       "      <th>0</th>\n",
       "      <td>46</td>\n",
       "      <td>2010-10-04 16:33:00</td>\n",
       "      <td>66</td>\n",
       "      <td>-64.68</td>\n",
       "      <td>51.619895</td>\n",
       "      <td>41.457490</td>\n",
       "      <td>1.209217</td>\n",
       "      <td>21.361448</td>\n",
       "    </tr>\n",
       "    <tr>\n",
       "      <th>1</th>\n",
       "      <td>71</td>\n",
       "      <td>2010-12-07 14:57:00</td>\n",
       "      <td>2</td>\n",
       "      <td>1323.32</td>\n",
       "      <td>64.259640</td>\n",
       "      <td>95.465587</td>\n",
       "      <td>69.450148</td>\n",
       "      <td>71.899122</td>\n",
       "    </tr>\n",
       "    <tr>\n",
       "      <th>2</th>\n",
       "      <td>20</td>\n",
       "      <td>2010-09-27 14:59:00</td>\n",
       "      <td>73</td>\n",
       "      <td>222.16</td>\n",
       "      <td>27.857632</td>\n",
       "      <td>38.207056</td>\n",
       "      <td>19.119325</td>\n",
       "      <td>24.429210</td>\n",
       "    </tr>\n",
       "    <tr>\n",
       "      <th>3</th>\n",
       "      <td>107</td>\n",
       "      <td>2010-10-28 08:23:00</td>\n",
       "      <td>42</td>\n",
       "      <td>2646.99</td>\n",
       "      <td>76.009582</td>\n",
       "      <td>56.009254</td>\n",
       "      <td>85.466575</td>\n",
       "      <td>78.400019</td>\n",
       "    </tr>\n",
       "    <tr>\n",
       "      <th>4</th>\n",
       "      <td>21</td>\n",
       "      <td>2010-11-29 15:23:00</td>\n",
       "      <td>10</td>\n",
       "      <td>300.93</td>\n",
       "      <td>29.146703</td>\n",
       "      <td>84.326200</td>\n",
       "      <td>26.454483</td>\n",
       "      <td>35.889062</td>\n",
       "    </tr>\n",
       "  </tbody>\n",
       "</table>\n",
       "</div>"
      ],
      "text/plain": [
       "   Frequency     LastInvoiceDate  Recency  Monetory  freq_rank_norm  \\\n",
       "0         46 2010-10-04 16:33:00       66    -64.68       51.619895   \n",
       "1         71 2010-12-07 14:57:00        2   1323.32       64.259640   \n",
       "2         20 2010-09-27 14:59:00       73    222.16       27.857632   \n",
       "3        107 2010-10-28 08:23:00       42   2646.99       76.009582   \n",
       "4         21 2010-11-29 15:23:00       10    300.93       29.146703   \n",
       "\n",
       "   rec_rank_norm  mon_rank_norm  rfm_score  \n",
       "0      41.457490       1.209217  21.361448  \n",
       "1      95.465587      69.450148  71.899122  \n",
       "2      38.207056      19.119325  24.429210  \n",
       "3      56.009254      85.466575  78.400019  \n",
       "4      84.326200      26.454483  35.889062  "
      ]
     },
     "execution_count": 37,
     "metadata": {},
     "output_type": "execute_result"
    }
   ],
   "source": [
    "rfm_df.head()"
   ]
  },
  {
   "cell_type": "markdown",
   "id": "6e51d046-5b4c-4726-bce5-84a26005906a",
   "metadata": {},
   "source": [
    "RFM Thresholds\n"
   ]
  },
  {
   "cell_type": "markdown",
   "id": "2c953afc-89f7-4c8f-90a4-9b3f2cacdbca",
   "metadata": {},
   "source": [
    "High value customers - rfm_score>0.7\n",
    "\n",
    "Medium value customers -rfm_score <= 0.7 and >0.25\n",
    "\n",
    "Low value customers - rfm_score <= 0.25"
   ]
  },
  {
   "cell_type": "code",
   "execution_count": 38,
   "id": "ddeb6ee0-7f19-4029-bd87-962805858943",
   "metadata": {},
   "outputs": [
    {
     "data": {
      "text/html": [
       "<div>\n",
       "<style scoped>\n",
       "    .dataframe tbody tr th:only-of-type {\n",
       "        vertical-align: middle;\n",
       "    }\n",
       "\n",
       "    .dataframe tbody tr th {\n",
       "        vertical-align: top;\n",
       "    }\n",
       "\n",
       "    .dataframe thead th {\n",
       "        text-align: right;\n",
       "    }\n",
       "</style>\n",
       "<table border=\"1\" class=\"dataframe\">\n",
       "  <thead>\n",
       "    <tr style=\"text-align: right;\">\n",
       "      <th></th>\n",
       "      <th>Frequency</th>\n",
       "      <th>LastInvoiceDate</th>\n",
       "      <th>Recency</th>\n",
       "      <th>Monetory</th>\n",
       "      <th>freq_rank_norm</th>\n",
       "      <th>rec_rank_norm</th>\n",
       "      <th>mon_rank_norm</th>\n",
       "      <th>rfm_score</th>\n",
       "    </tr>\n",
       "  </thead>\n",
       "  <tbody>\n",
       "    <tr>\n",
       "      <th>0</th>\n",
       "      <td>46</td>\n",
       "      <td>2010-10-04 16:33:00</td>\n",
       "      <td>66</td>\n",
       "      <td>-64.68</td>\n",
       "      <td>51.619895</td>\n",
       "      <td>41.457490</td>\n",
       "      <td>1.209217</td>\n",
       "      <td>21.361448</td>\n",
       "    </tr>\n",
       "    <tr>\n",
       "      <th>1</th>\n",
       "      <td>71</td>\n",
       "      <td>2010-12-07 14:57:00</td>\n",
       "      <td>2</td>\n",
       "      <td>1323.32</td>\n",
       "      <td>64.259640</td>\n",
       "      <td>95.465587</td>\n",
       "      <td>69.450148</td>\n",
       "      <td>71.899122</td>\n",
       "    </tr>\n",
       "    <tr>\n",
       "      <th>2</th>\n",
       "      <td>20</td>\n",
       "      <td>2010-09-27 14:59:00</td>\n",
       "      <td>73</td>\n",
       "      <td>222.16</td>\n",
       "      <td>27.857632</td>\n",
       "      <td>38.207056</td>\n",
       "      <td>19.119325</td>\n",
       "      <td>24.429210</td>\n",
       "    </tr>\n",
       "    <tr>\n",
       "      <th>3</th>\n",
       "      <td>107</td>\n",
       "      <td>2010-10-28 08:23:00</td>\n",
       "      <td>42</td>\n",
       "      <td>2646.99</td>\n",
       "      <td>76.009582</td>\n",
       "      <td>56.009254</td>\n",
       "      <td>85.466575</td>\n",
       "      <td>78.400019</td>\n",
       "    </tr>\n",
       "    <tr>\n",
       "      <th>4</th>\n",
       "      <td>21</td>\n",
       "      <td>2010-11-29 15:23:00</td>\n",
       "      <td>10</td>\n",
       "      <td>300.93</td>\n",
       "      <td>29.146703</td>\n",
       "      <td>84.326200</td>\n",
       "      <td>26.454483</td>\n",
       "      <td>35.889062</td>\n",
       "    </tr>\n",
       "  </tbody>\n",
       "</table>\n",
       "</div>"
      ],
      "text/plain": [
       "   Frequency     LastInvoiceDate  Recency  Monetory  freq_rank_norm  \\\n",
       "0         46 2010-10-04 16:33:00       66    -64.68       51.619895   \n",
       "1         71 2010-12-07 14:57:00        2   1323.32       64.259640   \n",
       "2         20 2010-09-27 14:59:00       73    222.16       27.857632   \n",
       "3        107 2010-10-28 08:23:00       42   2646.99       76.009582   \n",
       "4         21 2010-11-29 15:23:00       10    300.93       29.146703   \n",
       "\n",
       "   rec_rank_norm  mon_rank_norm  rfm_score  \n",
       "0      41.457490       1.209217  21.361448  \n",
       "1      95.465587      69.450148  71.899122  \n",
       "2      38.207056      19.119325  24.429210  \n",
       "3      56.009254      85.466575  78.400019  \n",
       "4      84.326200      26.454483  35.889062  "
      ]
     },
     "execution_count": 38,
     "metadata": {},
     "output_type": "execute_result"
    }
   ],
   "source": [
    "rfm_df.head()"
   ]
  },
  {
   "cell_type": "code",
   "execution_count": 39,
   "id": "6929c6f8-44e3-4f67-9cfb-20ec2a2e82e2",
   "metadata": {},
   "outputs": [],
   "source": [
    "rfm_df.loc[rfm_df['rfm_score']>75 , 'class'] = 'High value'"
   ]
  },
  {
   "cell_type": "code",
   "execution_count": 40,
   "id": "8bbd42ff-e493-4134-a6b1-fe76c1787bd8",
   "metadata": {},
   "outputs": [],
   "source": [
    "rfm_df.loc[(rfm_df['rfm_score']>25) & (rfm_df['rfm_score']<=75 ),'class'] = 'Medium value'"
   ]
  },
  {
   "cell_type": "code",
   "execution_count": 41,
   "id": "c590273f-91bc-48fa-a81d-86f56dcb2e8d",
   "metadata": {},
   "outputs": [],
   "source": [
    "rfm_df.loc[rfm_df['rfm_score']<=25, 'class'] = 'Low value'"
   ]
  },
  {
   "cell_type": "code",
   "execution_count": 42,
   "id": "f2ad6f7a-2500-4bd5-aec6-064b2e7ab662",
   "metadata": {},
   "outputs": [
    {
     "data": {
      "text/html": [
       "<div>\n",
       "<style scoped>\n",
       "    .dataframe tbody tr th:only-of-type {\n",
       "        vertical-align: middle;\n",
       "    }\n",
       "\n",
       "    .dataframe tbody tr th {\n",
       "        vertical-align: top;\n",
       "    }\n",
       "\n",
       "    .dataframe thead th {\n",
       "        text-align: right;\n",
       "    }\n",
       "</style>\n",
       "<table border=\"1\" class=\"dataframe\">\n",
       "  <thead>\n",
       "    <tr style=\"text-align: right;\">\n",
       "      <th></th>\n",
       "      <th>Frequency</th>\n",
       "      <th>LastInvoiceDate</th>\n",
       "      <th>Recency</th>\n",
       "      <th>Monetory</th>\n",
       "      <th>freq_rank_norm</th>\n",
       "      <th>rec_rank_norm</th>\n",
       "      <th>mon_rank_norm</th>\n",
       "      <th>rfm_score</th>\n",
       "      <th>class</th>\n",
       "    </tr>\n",
       "  </thead>\n",
       "  <tbody>\n",
       "    <tr>\n",
       "      <th>0</th>\n",
       "      <td>46</td>\n",
       "      <td>2010-10-04 16:33:00</td>\n",
       "      <td>66</td>\n",
       "      <td>-64.68</td>\n",
       "      <td>51.619895</td>\n",
       "      <td>41.457490</td>\n",
       "      <td>1.209217</td>\n",
       "      <td>21.361448</td>\n",
       "      <td>Low value</td>\n",
       "    </tr>\n",
       "    <tr>\n",
       "      <th>1</th>\n",
       "      <td>71</td>\n",
       "      <td>2010-12-07 14:57:00</td>\n",
       "      <td>2</td>\n",
       "      <td>1323.32</td>\n",
       "      <td>64.259640</td>\n",
       "      <td>95.465587</td>\n",
       "      <td>69.450148</td>\n",
       "      <td>71.899122</td>\n",
       "      <td>Medium value</td>\n",
       "    </tr>\n",
       "    <tr>\n",
       "      <th>2</th>\n",
       "      <td>20</td>\n",
       "      <td>2010-09-27 14:59:00</td>\n",
       "      <td>73</td>\n",
       "      <td>222.16</td>\n",
       "      <td>27.857632</td>\n",
       "      <td>38.207056</td>\n",
       "      <td>19.119325</td>\n",
       "      <td>24.429210</td>\n",
       "      <td>Low value</td>\n",
       "    </tr>\n",
       "    <tr>\n",
       "      <th>3</th>\n",
       "      <td>107</td>\n",
       "      <td>2010-10-28 08:23:00</td>\n",
       "      <td>42</td>\n",
       "      <td>2646.99</td>\n",
       "      <td>76.009582</td>\n",
       "      <td>56.009254</td>\n",
       "      <td>85.466575</td>\n",
       "      <td>78.400019</td>\n",
       "      <td>High value</td>\n",
       "    </tr>\n",
       "    <tr>\n",
       "      <th>4</th>\n",
       "      <td>21</td>\n",
       "      <td>2010-11-29 15:23:00</td>\n",
       "      <td>10</td>\n",
       "      <td>300.93</td>\n",
       "      <td>29.146703</td>\n",
       "      <td>84.326200</td>\n",
       "      <td>26.454483</td>\n",
       "      <td>35.889062</td>\n",
       "      <td>Medium value</td>\n",
       "    </tr>\n",
       "  </tbody>\n",
       "</table>\n",
       "</div>"
      ],
      "text/plain": [
       "   Frequency     LastInvoiceDate  Recency  Monetory  freq_rank_norm  \\\n",
       "0         46 2010-10-04 16:33:00       66    -64.68       51.619895   \n",
       "1         71 2010-12-07 14:57:00        2   1323.32       64.259640   \n",
       "2         20 2010-09-27 14:59:00       73    222.16       27.857632   \n",
       "3        107 2010-10-28 08:23:00       42   2646.99       76.009582   \n",
       "4         21 2010-11-29 15:23:00       10    300.93       29.146703   \n",
       "\n",
       "   rec_rank_norm  mon_rank_norm  rfm_score         class  \n",
       "0      41.457490       1.209217  21.361448     Low value  \n",
       "1      95.465587      69.450148  71.899122  Medium value  \n",
       "2      38.207056      19.119325  24.429210     Low value  \n",
       "3      56.009254      85.466575  78.400019    High value  \n",
       "4      84.326200      26.454483  35.889062  Medium value  "
      ]
     },
     "execution_count": 42,
     "metadata": {},
     "output_type": "execute_result"
    }
   ],
   "source": [
    "rfm_df.head()"
   ]
  },
  {
   "cell_type": "code",
   "execution_count": 43,
   "id": "bfa7b5a9-df3c-4229-8d86-dbdfff635de0",
   "metadata": {},
   "outputs": [],
   "source": [
    "rfm_df.drop(['LastInvoiceDate'],axis=1,inplace =True)"
   ]
  },
  {
   "cell_type": "code",
   "execution_count": 44,
   "id": "8ad119e0-ee21-403f-8acb-a8df29396351",
   "metadata": {},
   "outputs": [],
   "source": [
    "from sklearn.preprocessing import LabelEncoder\n",
    "le = LabelEncoder()\n",
    "rfm_df['class'] = le.fit_transform(rfm_df['class'])"
   ]
  },
  {
   "cell_type": "code",
   "execution_count": 45,
   "id": "52f4d5e2-821a-4ad1-adb6-bd10d288a436",
   "metadata": {},
   "outputs": [
    {
     "data": {
      "text/html": [
       "<div>\n",
       "<style scoped>\n",
       "    .dataframe tbody tr th:only-of-type {\n",
       "        vertical-align: middle;\n",
       "    }\n",
       "\n",
       "    .dataframe tbody tr th {\n",
       "        vertical-align: top;\n",
       "    }\n",
       "\n",
       "    .dataframe thead th {\n",
       "        text-align: right;\n",
       "    }\n",
       "</style>\n",
       "<table border=\"1\" class=\"dataframe\">\n",
       "  <thead>\n",
       "    <tr style=\"text-align: right;\">\n",
       "      <th></th>\n",
       "      <th>Frequency</th>\n",
       "      <th>Recency</th>\n",
       "      <th>Monetory</th>\n",
       "      <th>freq_rank_norm</th>\n",
       "      <th>rec_rank_norm</th>\n",
       "      <th>mon_rank_norm</th>\n",
       "      <th>rfm_score</th>\n",
       "      <th>class</th>\n",
       "    </tr>\n",
       "  </thead>\n",
       "  <tbody>\n",
       "    <tr>\n",
       "      <th>0</th>\n",
       "      <td>46</td>\n",
       "      <td>66</td>\n",
       "      <td>-64.68</td>\n",
       "      <td>51.619895</td>\n",
       "      <td>41.457490</td>\n",
       "      <td>1.209217</td>\n",
       "      <td>21.361448</td>\n",
       "      <td>1</td>\n",
       "    </tr>\n",
       "    <tr>\n",
       "      <th>1</th>\n",
       "      <td>71</td>\n",
       "      <td>2</td>\n",
       "      <td>1323.32</td>\n",
       "      <td>64.259640</td>\n",
       "      <td>95.465587</td>\n",
       "      <td>69.450148</td>\n",
       "      <td>71.899122</td>\n",
       "      <td>2</td>\n",
       "    </tr>\n",
       "    <tr>\n",
       "      <th>2</th>\n",
       "      <td>20</td>\n",
       "      <td>73</td>\n",
       "      <td>222.16</td>\n",
       "      <td>27.857632</td>\n",
       "      <td>38.207056</td>\n",
       "      <td>19.119325</td>\n",
       "      <td>24.429210</td>\n",
       "      <td>1</td>\n",
       "    </tr>\n",
       "    <tr>\n",
       "      <th>3</th>\n",
       "      <td>107</td>\n",
       "      <td>42</td>\n",
       "      <td>2646.99</td>\n",
       "      <td>76.009582</td>\n",
       "      <td>56.009254</td>\n",
       "      <td>85.466575</td>\n",
       "      <td>78.400019</td>\n",
       "      <td>0</td>\n",
       "    </tr>\n",
       "    <tr>\n",
       "      <th>4</th>\n",
       "      <td>21</td>\n",
       "      <td>10</td>\n",
       "      <td>300.93</td>\n",
       "      <td>29.146703</td>\n",
       "      <td>84.326200</td>\n",
       "      <td>26.454483</td>\n",
       "      <td>35.889062</td>\n",
       "      <td>2</td>\n",
       "    </tr>\n",
       "  </tbody>\n",
       "</table>\n",
       "</div>"
      ],
      "text/plain": [
       "   Frequency  Recency  Monetory  freq_rank_norm  rec_rank_norm  mon_rank_norm  \\\n",
       "0         46       66    -64.68       51.619895      41.457490       1.209217   \n",
       "1         71        2   1323.32       64.259640      95.465587      69.450148   \n",
       "2         20       73    222.16       27.857632      38.207056      19.119325   \n",
       "3        107       42   2646.99       76.009582      56.009254      85.466575   \n",
       "4         21       10    300.93       29.146703      84.326200      26.454483   \n",
       "\n",
       "   rfm_score  class  \n",
       "0  21.361448      1  \n",
       "1  71.899122      2  \n",
       "2  24.429210      1  \n",
       "3  78.400019      0  \n",
       "4  35.889062      2  "
      ]
     },
     "execution_count": 45,
     "metadata": {},
     "output_type": "execute_result"
    }
   ],
   "source": [
    "rfm_df.head()"
   ]
  },
  {
   "cell_type": "code",
   "execution_count": 46,
   "id": "8a64ac32-d772-40d4-b245-23a560d3a145",
   "metadata": {},
   "outputs": [
    {
     "data": {
      "image/png": "[encoded data removed]",
      "text/plain": [
       "<Figure size 640x480 with 1 Axes>"
      ]
     },
     "metadata": {},
     "output_type": "display_data"
    }
   ],
   "source": [
    "sns.histplot(data = rfm_df ,x = 'Frequency',bins = 30)\n",
    "plt.title('Frequency values Destribution')\n",
    "plt.show()"
   ]
  },
  {
   "cell_type": "code",
   "execution_count": 47,
   "id": "e7b9d887-1703-406e-b9d3-3cbb90e6bb90",
   "metadata": {},
   "outputs": [
    {
     "data": {
      "image/png": "[encoded data removed]",
      "text/plain": [
       "<Figure size 640x480 with 1 Axes>"
      ]
     },
     "metadata": {},
     "output_type": "display_data"
    }
   ],
   "source": [
    "sns.histplot(data= rfm_df,x='Recency',bins=30)\n",
    "plt.title('Recency values Destribution')\n",
    "plt.show()"
   ]
  },
  {
   "cell_type": "code",
   "execution_count": 48,
   "id": "b712b9f6-2dcc-4093-8275-83bc03be44a6",
   "metadata": {},
   "outputs": [
    {
     "data": {
      "image/png": "[encoded data removed]",
      "text/plain": [
       "<Figure size 640x480 with 1 Axes>"
      ]
     },
     "metadata": {},
     "output_type": "display_data"
    }
   ],
   "source": [
    "sns.histplot(data = rfm_df,x = 'Monetory',bins=30)\n",
    "plt.title('Monetory values Destribution')\n",
    "plt.show()"
   ]
  },
  {
   "cell_type": "code",
   "execution_count": 49,
   "id": "2bb52752-493c-42a5-9abd-1482424e1847",
   "metadata": {},
   "outputs": [],
   "source": [
    "x = rfm_df.drop(['class'],axis=1).values\n",
    "y = rfm_df.iloc[:,-1].values\n"
   ]
  },
  {
   "cell_type": "code",
   "execution_count": 50,
   "id": "150ace3d-13f3-483a-8870-0412910ee619",
   "metadata": {},
   "outputs": [],
   "source": [
    "\n",
    "scaler = StandardScaler()\n",
    "scaled_data = scaler.fit_transform(x)\n"
   ]
  },
  {
   "cell_type": "code",
   "execution_count": 51,
   "id": "830f4c32-4ffc-4dd1-a504-b0f01f593496",
   "metadata": {},
   "outputs": [],
   "source": [
    "## split data into train and test\n",
    "x_train,x_test,y_train,y_test = train_test_split(scaled_data,y,test_size=0.25,random_state=42)"
   ]
  },
  {
   "cell_type": "code",
   "execution_count": 52,
   "id": "e32c6636-d2df-4f31-8440-d87eeb19ddb8",
   "metadata": {},
   "outputs": [],
   "source": [
    "#### Using Elbow method for clustering"
   ]
  },
  {
   "cell_type": "code",
   "execution_count": 53,
   "id": "51634852-d315-4e73-9439-def9f7dae9c9",
   "metadata": {},
   "outputs": [],
   "source": [
    "destortion = []\n",
    "cluster_range = range(1,30)\n",
    "\n",
    "for i in cluster_range:\n",
    "    kmean = KMeans(n_clusters=i,init='k-means++',random_state=42)\n",
    "    kmean.fit(x)\n",
    "    destortion.append(kmean.inertia_)"
   ]
  },
  {
   "cell_type": "code",
   "execution_count": 54,
   "id": "8ff3bc54-b51e-4553-a93e-01bf8d813a92",
   "metadata": {},
   "outputs": [
    {
     "data": {
      "image/png": "[encoded data removed]",
      "text/plain": [
       "<Figure size 640x480 with 1 Axes>"
      ]
     },
     "metadata": {},
     "output_type": "display_data"
    }
   ],
   "source": [
    "plt.plot(cluster_range,destortion,marker= 'o')\n",
    "plt.show()"
   ]
  },
  {
   "cell_type": "code",
   "execution_count": 55,
   "id": "a1edd7a7-07de-4d0d-86d8-091be5791cc4",
   "metadata": {},
   "outputs": [
    {
     "name": "stdout",
     "output_type": "stream",
     "text": [
      "Defaulting to user installation because normal site-packages is not writeable\n",
      "Requirement already satisfied: yellowbrick in c:\\users\\ayyappa79\\appdata\\roaming\\python\\python311\\site-packages (1.5)\n",
      "Requirement already satisfied: matplotlib!=3.0.0,>=2.0.2 in d:\\programdata\\anaconda3\\lib\\site-packages (from yellowbrick) (3.8.0)\n",
      "Requirement already satisfied: scipy>=1.0.0 in d:\\programdata\\anaconda3\\lib\\site-packages (from yellowbrick) (1.11.4)\n",
      "Requirement already satisfied: scikit-learn>=1.0.0 in d:\\programdata\\anaconda3\\lib\\site-packages (from yellowbrick) (1.2.2)\n",
      "Requirement already satisfied: numpy>=1.16.0 in d:\\programdata\\anaconda3\\lib\\site-packages (from yellowbrick) (1.26.4)\n",
      "Requirement already satisfied: cycler>=0.10.0 in d:\\programdata\\anaconda3\\lib\\site-packages (from yellowbrick) (0.11.0)\n",
      "Requirement already satisfied: contourpy>=1.0.1 in d:\\programdata\\anaconda3\\lib\\site-packages (from matplotlib!=3.0.0,>=2.0.2->yellowbrick) (1.2.0)\n",
      "Requirement already satisfied: fonttools>=4.22.0 in d:\\programdata\\anaconda3\\lib\\site-packages (from matplotlib!=3.0.0,>=2.0.2->yellowbrick) (4.25.0)\n",
      "Requirement already satisfied: kiwisolver>=1.0.1 in d:\\programdata\\anaconda3\\lib\\site-packages (from matplotlib!=3.0.0,>=2.0.2->yellowbrick) (1.4.4)\n",
      "Requirement already satisfied: packaging>=20.0 in d:\\programdata\\anaconda3\\lib\\site-packages (from matplotlib!=3.0.0,>=2.0.2->yellowbrick) (23.1)\n",
      "Requirement already satisfied: pillow>=6.2.0 in d:\\programdata\\anaconda3\\lib\\site-packages (from matplotlib!=3.0.0,>=2.0.2->yellowbrick) (10.2.0)\n",
      "Requirement already satisfied: pyparsing>=2.3.1 in d:\\programdata\\anaconda3\\lib\\site-packages (from matplotlib!=3.0.0,>=2.0.2->yellowbrick) (3.0.9)\n",
      "Requirement already satisfied: python-dateutil>=2.7 in d:\\programdata\\anaconda3\\lib\\site-packages (from matplotlib!=3.0.0,>=2.0.2->yellowbrick) (2.8.2)\n",
      "Requirement already satisfied: joblib>=1.1.1 in d:\\programdata\\anaconda3\\lib\\site-packages (from scikit-learn>=1.0.0->yellowbrick) (1.2.0)\n",
      "Requirement already satisfied: threadpoolctl>=2.0.0 in d:\\programdata\\anaconda3\\lib\\site-packages (from scikit-learn>=1.0.0->yellowbrick) (2.2.0)\n",
      "Requirement already satisfied: six>=1.5 in d:\\programdata\\anaconda3\\lib\\site-packages (from python-dateutil>=2.7->matplotlib!=3.0.0,>=2.0.2->yellowbrick) (1.16.0)\n",
      "Note: you may need to restart the kernel to use updated packages.\n"
     ]
    }
   ],
   "source": [
    "pip install yellowbrick\n"
   ]
  },
  {
   "cell_type": "code",
   "execution_count": 56,
   "id": "e7a9bc45-b6af-40e5-8a76-2c5b6618b739",
   "metadata": {},
   "outputs": [
    {
     "data": {
      "image/png": "[encoded data removed]",
      "text/plain": [
       "<Figure size 800x550 with 2 Axes>"
      ]
     },
     "metadata": {},
     "output_type": "display_data"
    }
   ],
   "source": [
    "from yellowbrick.cluster import KElbowVisualizer\n",
    "kmeans = KMeans()\n",
    "visu = KElbowVisualizer(kmean, k = (2,20))\n",
    "visu.fit(rfm_df)\n",
    "visu.poof();\n"
   ]
  },
  {
   "cell_type": "code",
   "execution_count": 57,
   "id": "6835d95d-7a71-44ee-9ed0-b19d5439f8ec",
   "metadata": {},
   "outputs": [],
   "source": [
    "k_value =6\n",
    "kmeans =KMeans(n_clusters=6,random_state=42)\n",
    "k_pred = kmeans.fit_predict(x)"
   ]
  },
  {
   "cell_type": "code",
   "execution_count": 58,
   "id": "8cf240ae-ff50-485f-8cd2-55438b901193",
   "metadata": {},
   "outputs": [
    {
     "name": "stdout",
     "output_type": "stream",
     "text": [
      "((3888,), (3888,))\n",
      "((2,), (2,))\n",
      "((53,), (53,))\n",
      "((3,), (3,))\n",
      "((15,), (15,))\n",
      "((422,), (422,))\n"
     ]
    },
    {
     "data": {
      "text/plain": [
       "<matplotlib.collections.PathCollection at 0x19772fb9410>"
      ]
     },
     "execution_count": 58,
     "metadata": {},
     "output_type": "execute_result"
    },
    {
     "data": {
      "image/png": "[encoded data removed]",
      "text/plain": [
       "<Figure size 800x550 with 1 Axes>"
      ]
     },
     "metadata": {},
     "output_type": "display_data"
    }
   ],
   "source": [
    "for i in range(k_value):\n",
    "    print((x[k_pred==i,0].shape , x[k_pred==i,1].shape))\n",
    "    plt.scatter(x[k_pred==i,0] , x[k_pred==i,1],s=50)\n",
    "\n",
    "plt.scatter(kmeans.cluster_centers_[:,0] , kmeans.cluster_centers_[:,1],s=100,c='black')"
   ]
  },
  {
   "cell_type": "code",
   "execution_count": 59,
   "id": "2c1a4955-786d-4775-8bc8-0603c3a91365",
   "metadata": {},
   "outputs": [
    {
     "data": {
      "text/plain": [
       "<mpl_toolkits.mplot3d.art3d.Path3DCollection at 0x197697da310>"
      ]
     },
     "execution_count": 59,
     "metadata": {},
     "output_type": "execute_result"
    },
    {
     "data": {
      "image/png": "[encoded data removed]",
      "text/plain": [
       "<Figure size 800x550 with 1 Axes>"
      ]
     },
     "metadata": {},
     "output_type": "display_data"
    }
   ],
   "source": [
    "import plotly.express as px\n",
    "fig = plt.figure()\n",
    "ax = fig.add_subplot(111, projection='3d')\n",
    "for i in range(k_value):\n",
    "    # Plot data\n",
    "    ax.scatter3D(x[k_pred == i, 0], x[k_pred == i, 1], x[k_pred == i, 2], s=50, label=f'Cluster {i}')\n",
    "\n",
    "# Plot the centroids\n",
    "ax.scatter3D(kmeans.cluster_centers_[:, 0], kmeans.cluster_centers_[:, 1], s=100, c='black', label='Centroids', marker='x')\n"
   ]
  },
  {
   "cell_type": "code",
   "execution_count": null,
   "id": "3a187bc5-53e4-4e44-a388-49b6177b2646",
   "metadata": {},
   "outputs": [],
   "source": []
  }
 ],
 "metadata": {
  "kernelspec": {
   "display_name": "Python 3 (ipykernel)",
   "language": "python",
   "name": "python3"
  },
  "language_info": {
   "codemirror_mode": {
    "name": "ipython",
    "version": 3
   },
   "file_extension": ".py",
   "mimetype": "text/x-python",
   "name": "python",
   "nbconvert_exporter": "python",
   "pygments_lexer": "ipython3",
   "version": "3.11.7"
  }
 },
 "nbformat": 4,
 "nbformat_minor": 5
}
